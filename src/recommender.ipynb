{
 "cells": [
  {
   "cell_type": "markdown",
   "metadata": {},
   "source": [
    "# TEST JUPYTER"
   ]
  },
  {
   "cell_type": "code",
   "execution_count": 21,
   "metadata": {},
   "outputs": [],
   "source": [
    "import requests\n",
    "import json\n",
    "import re"
   ]
  },
  {
   "cell_type": "markdown",
   "metadata": {},
   "source": [
    "-------------------------"
   ]
  },
  {
   "cell_type": "markdown",
   "metadata": {},
   "source": [
    "# GET"
   ]
  },
  {
   "cell_type": "code",
   "execution_count": 4,
   "metadata": {},
   "outputs": [
    {
     "data": {
      "text/plain": [
       "{'_id': {'$oid': '5de4e7ca23b10dd6da183ddb'},\n",
       " 'idUser': 0,\n",
       " 'userName': 'John Wick',\n",
       " 'idMessage': 0,\n",
       " 'idChat': 0,\n",
       " 'datetime': '2019-10-17 10:15:41',\n",
       " 'text': 'Hey Mike, whats up??'}"
      ]
     },
     "execution_count": 4,
     "metadata": {},
     "output_type": "execute_result"
    }
   ],
   "source": [
    "# all content\n",
    "url=\"http://localhost:8080/\"\n",
    "requests.get(url).json()[0]"
   ]
  },
  {
   "cell_type": "code",
   "execution_count": null,
   "metadata": {},
   "outputs": [],
   "source": []
  },
  {
   "cell_type": "code",
   "execution_count": 6,
   "metadata": {},
   "outputs": [
    {
     "data": {
      "text/plain": [
       "{'text': 'Hey Mike, whats up??'}"
      ]
     },
     "execution_count": 6,
     "metadata": {},
     "output_type": "execute_result"
    }
   ],
   "source": [
    "# all messages\n",
    "url='http://localhost:8080/messages/'\n",
    "requests.get(url).json()[0]"
   ]
  },
  {
   "cell_type": "code",
   "execution_count": 7,
   "metadata": {},
   "outputs": [],
   "source": [
    "# all conversations\n",
    "url='http://localhost:8080/chatid/'\n",
    "chatid=requests.get(url).json()"
   ]
  },
  {
   "cell_type": "code",
   "execution_count": 4,
   "metadata": {},
   "outputs": [],
   "source": [
    "# all sentiments analysis. crazy stuff from before\n",
    "url='http://localhost:8080/chat/2/sentiment/'\n",
    "chatid=requests.get(url)\n",
    "chatid.json()\n",
    "chatid\n",
    "my_dict = {}\n",
    "for x in chatid:    \n",
    "    if 'idChat' in x:\n",
    "        if x['idChat'] not in my_dict:\n",
    "            my_dict[x['idChat']] = x['text']\n",
    "        else:\n",
    "            my_dict[x['idChat']] += \" {}\".format(x['text'])\n",
    "list_conversation=my_dict[0]\n",
    "\n",
    "import nltk # install nltk\n",
    "from nltk.sentiment.vader import SentimentIntensityAnalyzer\n",
    "sid = SentimentIntensityAnalyzer()\n",
    "sid.polarity_scores(list_conversation)"
   ]
  },
  {
   "cell_type": "code",
   "execution_count": 3,
   "metadata": {},
   "outputs": [],
   "source": [
    "####################################################3"
   ]
  },
  {
   "cell_type": "code",
   "execution_count": 1,
   "metadata": {},
   "outputs": [],
   "source": [
    "import requests\n",
    "import json"
   ]
  },
  {
   "cell_type": "code",
   "execution_count": 2,
   "metadata": {},
   "outputs": [],
   "source": [
    "# recommending series\n",
    "url='http://localhost:8080/users'\n",
    "for_analysis=requests.get(url).json()"
   ]
  },
  {
   "cell_type": "code",
   "execution_count": 3,
   "metadata": {},
   "outputs": [],
   "source": [
    "#chatid"
   ]
  },
  {
   "cell_type": "code",
   "execution_count": 4,
   "metadata": {},
   "outputs": [
    {
     "data": {
      "text/plain": [
       "'Hey Mike, whats up??'"
      ]
     },
     "execution_count": 4,
     "metadata": {},
     "output_type": "execute_result"
    }
   ],
   "source": [
    "for_analysis[0]\n",
    "for_analysis[0][\"userName\"]\n",
    "for_analysis[0][\"text\"]"
   ]
  },
  {
   "cell_type": "code",
   "execution_count": 22,
   "metadata": {},
   "outputs": [],
   "source": [
    "def getting_every_sentence(lista):\n",
    "    users_dict=dict()\n",
    "    for i in range(len(lista)):\n",
    "        if lista[i]['userName'] not in users_dict:\n",
    "            users_dict[lista[i]['userName']]=lista[i]['text']\n",
    "        else:\n",
    "            users_dict[lista[i]['userName']]+=' ' +lista[i]['text']\n",
    "    for e in users_dict:\n",
    "        users_dict[e]=re.sub(r\"[^a-zA-Z0-9]+\", ' ', users_dict[e])\n",
    "    return users_dict"
   ]
  },
  {
   "cell_type": "code",
   "execution_count": 25,
   "metadata": {},
   "outputs": [
    {
     "data": {
      "text/plain": [
       "dict_values(['Hey Mike whats up No had to work How was it No way I bet people went crazy Motherfucker Hungover Sure boss I do I just dont feel appreciated in my job I dunno Maybe Thank you boss I feel much better ', 'Dude Did you watch the game last night Awesome Boyander scored 3 goals Way For sure We stayed at KuboLoco until 6AM Dead burried and still suffering Sweety pie How Ive longed to talk to you Its Mike honey bunny Or doctor LOVE And youre a sick little girl Cant handle me on your own That would be hot I NEED VODKA LIKE A CAR NEEDS GAS', 'Im so angry right now Impossible Cant do it Just cant He pissed me off so much But how am I suposed to fix the facial recognition system if it doesnt even work And who the hell is Tony Oh shit I think youre friends with my brother ', 'I saw you this morning You shouldnt get so upset Dont get so frustrated Leia Remember what German said Im sure you will find a way I am Iron Man Uh Oh Better fix that quickly ', 'Not again Michael Im gonna report you to Human Resources again Michael Id rather have a fucking alien crawling out of my ass Ok youve got to stop drinking Im calling HR Dude Alcoholics Anonymous https www aa org', 'I want pictures of Spiderman and I want them now Youve got to take me seriously Thats why youve got to get those damm pictures Get the god damn motherfucking fuckity fuck bloody ballsack pictures Youve got to And I believe in you', 'REDRUM REDRUM REDRUM REDRUM Murder bro cold blooded splashy murderous fun A nice day to create havoc Fishing sounds good What about the labyrinth ', 'What was that Did you mean red room Id love a red room Chill out pinky Its such a nice day Ill go for a walk in the park I guess Maybe fishing No That places creeps me out ', 'Ey Vargas You should grow up you damn piece of physicist Yay '])"
      ]
     },
     "execution_count": 25,
     "metadata": {},
     "output_type": "execute_result"
    }
   ],
   "source": [
    "to_analyse=getting_every_sentence(for_analysis)\n",
    "to_analyse.values()"
   ]
  },
  {
   "cell_type": "code",
   "execution_count": 24,
   "metadata": {},
   "outputs": [],
   "source": [
    "import pandas as pd\n",
    "from sklearn.feature_extraction.text import CountVectorizer"
   ]
  },
  {
   "cell_type": "code",
   "execution_count": 26,
   "metadata": {},
   "outputs": [
    {
     "data": {
      "text/plain": [
       "<9x219 sparse matrix of type '<class 'numpy.int64'>'\n",
       "\twith 290 stored elements in Compressed Sparse Row format>"
      ]
     },
     "execution_count": 26,
     "metadata": {},
     "output_type": "execute_result"
    }
   ],
   "source": [
    "# Create the Document Term Matrix\n",
    "#count_vectorizer = CountVectorizer(stop_words='english')\n",
    "count_vectorizer = CountVectorizer()\n",
    "sparse_matrix = count_vectorizer.fit_transform(to_analyse.values())\n",
    "sparse_matrix"
   ]
  },
  {
   "cell_type": "code",
   "execution_count": 28,
   "metadata": {},
   "outputs": [],
   "source": [
    "# NOTE: It will be sooo much better to relate similarity meaning words\n",
    "# See gensim -> https://radimrehurek.com/gensim/\n",
    "\n",
    "# Convert Sparse Matrix to Pandas Dataframe if you want to see the word frequencies.\n",
    "doc_term_matrix = sparse_matrix.todense()\n",
    "df = pd.DataFrame(doc_term_matrix, \n",
    "                  columns=count_vectorizer.get_feature_names(), \n",
    "                  index=to_analyse.keys())"
   ]
  },
  {
   "cell_type": "code",
   "execution_count": 29,
   "metadata": {},
   "outputs": [
    {
     "name": "stdout",
     "output_type": "stream",
     "text": [
      "[[1.         0.14686936 0.18677184 0.1627907  0.08993875 0.09113533\n",
      "  0.02577696 0.13953488 0.12227087]\n",
      " [0.14686936 1.         0.18020684 0.16522803 0.12424948 0.20144406\n",
      "  0.06104677 0.1835867  0.12869789]\n",
      " [0.18677184 0.18020684 1.         0.16601942 0.10032154 0.14638501\n",
      "  0.06900656 0.06225728 0.        ]\n",
      " [0.1627907  0.16522803 0.16601942 1.         0.11242344 0.12758946\n",
      "  0.02577696 0.13953488 0.24454174]\n",
      " [0.08993875 0.12424948 0.10032154 0.11242344 1.         0.24671758\n",
      "  0.04984448 0.08993875 0.11821656]\n",
      " [0.09113533 0.20144406 0.14638501 0.12758946 0.24671758 1.\n",
      "  0.0808122  0.07290826 0.12777531]\n",
      " [0.02577696 0.06104677 0.06900656 0.02577696 0.04984448 0.0808122\n",
      "  1.         0.12888482 0.        ]\n",
      " [0.13953488 0.1835867  0.06225728 0.13953488 0.08993875 0.07290826\n",
      "  0.12888482 1.         0.08151391]\n",
      " [0.12227087 0.12869789 0.         0.24454174 0.11821656 0.12777531\n",
      "  0.         0.08151391 1.        ]]\n"
     ]
    }
   ],
   "source": [
    "from sklearn.metrics.pairwise import cosine_similarity as distance\n",
    "#from sklearn.metrics.pairwise import euclidean_distances as distance\n",
    "\n",
    "# Compute Cosine Similarity matrix (or selected distance)\n",
    "similarity_matrix = distance(df, df)\n",
    "print(similarity_matrix)"
   ]
  },
  {
   "cell_type": "code",
   "execution_count": 31,
   "metadata": {},
   "outputs": [
    {
     "data": {
      "text/html": [
       "<div>\n",
       "<style scoped>\n",
       "    .dataframe tbody tr th:only-of-type {\n",
       "        vertical-align: middle;\n",
       "    }\n",
       "\n",
       "    .dataframe tbody tr th {\n",
       "        vertical-align: top;\n",
       "    }\n",
       "\n",
       "    .dataframe thead th {\n",
       "        text-align: right;\n",
       "    }\n",
       "</style>\n",
       "<table border=\"1\" class=\"dataframe\">\n",
       "  <thead>\n",
       "    <tr style=\"text-align: right;\">\n",
       "      <th></th>\n",
       "      <th>John Wick</th>\n",
       "      <th>Mike Wazowski</th>\n",
       "      <th>Leia Organa</th>\n",
       "      <th>Tony Stark</th>\n",
       "      <th>Ellen Ripley</th>\n",
       "      <th>J. Jonah Jameson</th>\n",
       "      <th>Danny Torrances Finger</th>\n",
       "      <th>Danny Torrance</th>\n",
       "      <th>Celia</th>\n",
       "    </tr>\n",
       "  </thead>\n",
       "  <tbody>\n",
       "    <tr>\n",
       "      <td>John Wick</td>\n",
       "      <td>1.000000</td>\n",
       "      <td>0.146869</td>\n",
       "      <td>0.186772</td>\n",
       "      <td>0.162791</td>\n",
       "      <td>0.089939</td>\n",
       "      <td>0.091135</td>\n",
       "      <td>0.025777</td>\n",
       "      <td>0.139535</td>\n",
       "      <td>0.122271</td>\n",
       "    </tr>\n",
       "    <tr>\n",
       "      <td>Mike Wazowski</td>\n",
       "      <td>0.146869</td>\n",
       "      <td>1.000000</td>\n",
       "      <td>0.180207</td>\n",
       "      <td>0.165228</td>\n",
       "      <td>0.124249</td>\n",
       "      <td>0.201444</td>\n",
       "      <td>0.061047</td>\n",
       "      <td>0.183587</td>\n",
       "      <td>0.128698</td>\n",
       "    </tr>\n",
       "    <tr>\n",
       "      <td>Leia Organa</td>\n",
       "      <td>0.186772</td>\n",
       "      <td>0.180207</td>\n",
       "      <td>1.000000</td>\n",
       "      <td>0.166019</td>\n",
       "      <td>0.100322</td>\n",
       "      <td>0.146385</td>\n",
       "      <td>0.069007</td>\n",
       "      <td>0.062257</td>\n",
       "      <td>0.000000</td>\n",
       "    </tr>\n",
       "    <tr>\n",
       "      <td>Tony Stark</td>\n",
       "      <td>0.162791</td>\n",
       "      <td>0.165228</td>\n",
       "      <td>0.166019</td>\n",
       "      <td>1.000000</td>\n",
       "      <td>0.112423</td>\n",
       "      <td>0.127589</td>\n",
       "      <td>0.025777</td>\n",
       "      <td>0.139535</td>\n",
       "      <td>0.244542</td>\n",
       "    </tr>\n",
       "    <tr>\n",
       "      <td>Ellen Ripley</td>\n",
       "      <td>0.089939</td>\n",
       "      <td>0.124249</td>\n",
       "      <td>0.100322</td>\n",
       "      <td>0.112423</td>\n",
       "      <td>1.000000</td>\n",
       "      <td>0.246718</td>\n",
       "      <td>0.049844</td>\n",
       "      <td>0.089939</td>\n",
       "      <td>0.118217</td>\n",
       "    </tr>\n",
       "    <tr>\n",
       "      <td>J. Jonah Jameson</td>\n",
       "      <td>0.091135</td>\n",
       "      <td>0.201444</td>\n",
       "      <td>0.146385</td>\n",
       "      <td>0.127589</td>\n",
       "      <td>0.246718</td>\n",
       "      <td>1.000000</td>\n",
       "      <td>0.080812</td>\n",
       "      <td>0.072908</td>\n",
       "      <td>0.127775</td>\n",
       "    </tr>\n",
       "    <tr>\n",
       "      <td>Danny Torrances Finger</td>\n",
       "      <td>0.025777</td>\n",
       "      <td>0.061047</td>\n",
       "      <td>0.069007</td>\n",
       "      <td>0.025777</td>\n",
       "      <td>0.049844</td>\n",
       "      <td>0.080812</td>\n",
       "      <td>1.000000</td>\n",
       "      <td>0.128885</td>\n",
       "      <td>0.000000</td>\n",
       "    </tr>\n",
       "    <tr>\n",
       "      <td>Danny Torrance</td>\n",
       "      <td>0.139535</td>\n",
       "      <td>0.183587</td>\n",
       "      <td>0.062257</td>\n",
       "      <td>0.139535</td>\n",
       "      <td>0.089939</td>\n",
       "      <td>0.072908</td>\n",
       "      <td>0.128885</td>\n",
       "      <td>1.000000</td>\n",
       "      <td>0.081514</td>\n",
       "    </tr>\n",
       "    <tr>\n",
       "      <td>Celia</td>\n",
       "      <td>0.122271</td>\n",
       "      <td>0.128698</td>\n",
       "      <td>0.000000</td>\n",
       "      <td>0.244542</td>\n",
       "      <td>0.118217</td>\n",
       "      <td>0.127775</td>\n",
       "      <td>0.000000</td>\n",
       "      <td>0.081514</td>\n",
       "      <td>1.000000</td>\n",
       "    </tr>\n",
       "  </tbody>\n",
       "</table>\n",
       "</div>"
      ],
      "text/plain": [
       "                        John Wick  Mike Wazowski  Leia Organa  Tony Stark  \\\n",
       "John Wick                1.000000       0.146869     0.186772    0.162791   \n",
       "Mike Wazowski            0.146869       1.000000     0.180207    0.165228   \n",
       "Leia Organa              0.186772       0.180207     1.000000    0.166019   \n",
       "Tony Stark               0.162791       0.165228     0.166019    1.000000   \n",
       "Ellen Ripley             0.089939       0.124249     0.100322    0.112423   \n",
       "J. Jonah Jameson         0.091135       0.201444     0.146385    0.127589   \n",
       "Danny Torrances Finger   0.025777       0.061047     0.069007    0.025777   \n",
       "Danny Torrance           0.139535       0.183587     0.062257    0.139535   \n",
       "Celia                    0.122271       0.128698     0.000000    0.244542   \n",
       "\n",
       "                        Ellen Ripley  J. Jonah Jameson  \\\n",
       "John Wick                   0.089939          0.091135   \n",
       "Mike Wazowski               0.124249          0.201444   \n",
       "Leia Organa                 0.100322          0.146385   \n",
       "Tony Stark                  0.112423          0.127589   \n",
       "Ellen Ripley                1.000000          0.246718   \n",
       "J. Jonah Jameson            0.246718          1.000000   \n",
       "Danny Torrances Finger      0.049844          0.080812   \n",
       "Danny Torrance              0.089939          0.072908   \n",
       "Celia                       0.118217          0.127775   \n",
       "\n",
       "                        Danny Torrances Finger  Danny Torrance     Celia  \n",
       "John Wick                             0.025777        0.139535  0.122271  \n",
       "Mike Wazowski                         0.061047        0.183587  0.128698  \n",
       "Leia Organa                           0.069007        0.062257  0.000000  \n",
       "Tony Stark                            0.025777        0.139535  0.244542  \n",
       "Ellen Ripley                          0.049844        0.089939  0.118217  \n",
       "J. Jonah Jameson                      0.080812        0.072908  0.127775  \n",
       "Danny Torrances Finger                1.000000        0.128885  0.000000  \n",
       "Danny Torrance                        0.128885        1.000000  0.081514  \n",
       "Celia                                 0.000000        0.081514  1.000000  "
      ]
     },
     "metadata": {},
     "output_type": "display_data"
    },
    {
     "data": {
      "text/plain": [
       "<matplotlib.axes._subplots.AxesSubplot at 0x7f7e6384bb50>"
      ]
     },
     "execution_count": 31,
     "metadata": {},
     "output_type": "execute_result"
    },
    {
     "data": {
      "image/png": "[encoded data removed]",
      "text/plain": [
       "<Figure size 432x288 with 2 Axes>"
      ]
     },
     "metadata": {
      "needs_background": "light"
     },
     "output_type": "display_data"
    }
   ],
   "source": [
    "# Convert it to dataframe to visualize with seaborn\n",
    "import seaborn as sns\n",
    "sim_df = pd.DataFrame(similarity_matrix, columns=to_analyse.keys(), index=to_analyse.keys())\n",
    "display(sim_df)\n",
    "sns.heatmap(sim_df,annot=True)"
   ]
  },
  {
   "cell_type": "code",
   "execution_count": 5,
   "metadata": {},
   "outputs": [],
   "source": []
  },
  {
   "cell_type": "code",
   "execution_count": 86,
   "metadata": {},
   "outputs": [],
   "source": []
  },
  {
   "cell_type": "code",
   "execution_count": null,
   "metadata": {},
   "outputs": [],
   "source": []
  },
  {
   "cell_type": "code",
   "execution_count": null,
   "metadata": {},
   "outputs": [],
   "source": []
  },
  {
   "cell_type": "code",
   "execution_count": null,
   "metadata": {},
   "outputs": [],
   "source": []
  },
  {
   "cell_type": "code",
   "execution_count": null,
   "metadata": {},
   "outputs": [],
   "source": []
  },
  {
   "cell_type": "code",
   "execution_count": null,
   "metadata": {},
   "outputs": [],
   "source": []
  },
  {
   "cell_type": "code",
   "execution_count": 62,
   "metadata": {},
   "outputs": [],
   "source": []
  },
  {
   "cell_type": "code",
   "execution_count": 62,
   "metadata": {},
   "outputs": [],
   "source": []
  },
  {
   "cell_type": "code",
   "execution_count": null,
   "metadata": {},
   "outputs": [],
   "source": []
  },
  {
   "cell_type": "code",
   "execution_count": null,
   "metadata": {},
   "outputs": [],
   "source": []
  },
  {
   "cell_type": "code",
   "execution_count": 17,
   "metadata": {},
   "outputs": [],
   "source": [
    "import nltk # install nltk\n",
    "from nltk.sentiment.vader import SentimentIntensityAnalyzer"
   ]
  },
  {
   "cell_type": "code",
   "execution_count": 18,
   "metadata": {},
   "outputs": [
    {
     "ename": "LookupError",
     "evalue": "\n**********************************************************************\n  Resource \u001b[93mvader_lexicon\u001b[0m not found.\n  Please use the NLTK Downloader to obtain the resource:\n\n  \u001b[31m>>> import nltk\n  >>> nltk.download('vader_lexicon')\n  \u001b[0m\n  For more information see: https://www.nltk.org/data.html\n\n  Attempted to load \u001b[93msentiment/vader_lexicon.zip/vader_lexicon/vader_lexicon.txt\u001b[0m\n\n  Searched in:\n    - '/home/vargas/nltk_data'\n    - '/home/vargas/miniconda3/envs/ironhack/nltk_data'\n    - '/home/vargas/miniconda3/envs/ironhack/share/nltk_data'\n    - '/home/vargas/miniconda3/envs/ironhack/lib/nltk_data'\n    - '/usr/share/nltk_data'\n    - '/usr/local/share/nltk_data'\n    - '/usr/lib/nltk_data'\n    - '/usr/local/lib/nltk_data'\n    - ''\n**********************************************************************\n",
     "output_type": "error",
     "traceback": [
      "\u001b[0;31m---------------------------------------------------------------------------\u001b[0m",
      "\u001b[0;31mLookupError\u001b[0m                               Traceback (most recent call last)",
      "\u001b[0;32m<ipython-input-18-db1339b536e3>\u001b[0m in \u001b[0;36m<module>\u001b[0;34m\u001b[0m\n\u001b[0;32m----> 1\u001b[0;31m \u001b[0msid\u001b[0m \u001b[0;34m=\u001b[0m \u001b[0mSentimentIntensityAnalyzer\u001b[0m\u001b[0;34m(\u001b[0m\u001b[0;34m)\u001b[0m\u001b[0;34m\u001b[0m\u001b[0;34m\u001b[0m\u001b[0m\n\u001b[0m\u001b[1;32m      2\u001b[0m \u001b[0mconversations\u001b[0m\u001b[0;34m=\u001b[0m\u001b[0;34m[\u001b[0m\u001b[0;34m]\u001b[0m\u001b[0;34m\u001b[0m\u001b[0;34m\u001b[0m\u001b[0m\n\u001b[1;32m      3\u001b[0m \u001b[0msentiment\u001b[0m\u001b[0;34m=\u001b[0m\u001b[0;34m[\u001b[0m\u001b[0;34m]\u001b[0m\u001b[0;34m\u001b[0m\u001b[0;34m\u001b[0m\u001b[0m\n\u001b[1;32m      4\u001b[0m \u001b[0;32mfor\u001b[0m \u001b[0mx\u001b[0m\u001b[0;34m,\u001b[0m\u001b[0my\u001b[0m \u001b[0;32min\u001b[0m \u001b[0mmy_dict\u001b[0m\u001b[0;34m.\u001b[0m\u001b[0mitems\u001b[0m\u001b[0;34m(\u001b[0m\u001b[0;34m)\u001b[0m\u001b[0;34m:\u001b[0m\u001b[0;34m\u001b[0m\u001b[0;34m\u001b[0m\u001b[0m\n\u001b[1;32m      5\u001b[0m     \u001b[0msentiment\u001b[0m\u001b[0;34m.\u001b[0m\u001b[0mappend\u001b[0m\u001b[0;34m(\u001b[0m\u001b[0mstr\u001b[0m\u001b[0;34m(\u001b[0m\u001b[0my\u001b[0m\u001b[0;34m)\u001b[0m\u001b[0;34m)\u001b[0m\u001b[0;34m\u001b[0m\u001b[0;34m\u001b[0m\u001b[0m\n",
      "\u001b[0;32m~/miniconda3/envs/ironhack/lib/python3.7/site-packages/nltk/sentiment/vader.py\u001b[0m in \u001b[0;36m__init__\u001b[0;34m(self, lexicon_file)\u001b[0m\n\u001b[1;32m    332\u001b[0m         \u001b[0mself\u001b[0m\u001b[0;34m,\u001b[0m \u001b[0mlexicon_file\u001b[0m\u001b[0;34m=\u001b[0m\u001b[0;34m\"sentiment/vader_lexicon.zip/vader_lexicon/vader_lexicon.txt\"\u001b[0m\u001b[0;34m\u001b[0m\u001b[0;34m\u001b[0m\u001b[0m\n\u001b[1;32m    333\u001b[0m     ):\n\u001b[0;32m--> 334\u001b[0;31m         \u001b[0mself\u001b[0m\u001b[0;34m.\u001b[0m\u001b[0mlexicon_file\u001b[0m \u001b[0;34m=\u001b[0m \u001b[0mnltk\u001b[0m\u001b[0;34m.\u001b[0m\u001b[0mdata\u001b[0m\u001b[0;34m.\u001b[0m\u001b[0mload\u001b[0m\u001b[0;34m(\u001b[0m\u001b[0mlexicon_file\u001b[0m\u001b[0;34m)\u001b[0m\u001b[0;34m\u001b[0m\u001b[0;34m\u001b[0m\u001b[0m\n\u001b[0m\u001b[1;32m    335\u001b[0m         \u001b[0mself\u001b[0m\u001b[0;34m.\u001b[0m\u001b[0mlexicon\u001b[0m \u001b[0;34m=\u001b[0m \u001b[0mself\u001b[0m\u001b[0;34m.\u001b[0m\u001b[0mmake_lex_dict\u001b[0m\u001b[0;34m(\u001b[0m\u001b[0;34m)\u001b[0m\u001b[0;34m\u001b[0m\u001b[0;34m\u001b[0m\u001b[0m\n\u001b[1;32m    336\u001b[0m \u001b[0;34m\u001b[0m\u001b[0m\n",
      "\u001b[0;32m~/miniconda3/envs/ironhack/lib/python3.7/site-packages/nltk/data.py\u001b[0m in \u001b[0;36mload\u001b[0;34m(resource_url, format, cache, verbose, logic_parser, fstruct_reader, encoding)\u001b[0m\n\u001b[1;32m    866\u001b[0m \u001b[0;34m\u001b[0m\u001b[0m\n\u001b[1;32m    867\u001b[0m     \u001b[0;31m# Load the resource.\u001b[0m\u001b[0;34m\u001b[0m\u001b[0;34m\u001b[0m\u001b[0;34m\u001b[0m\u001b[0m\n\u001b[0;32m--> 868\u001b[0;31m     \u001b[0mopened_resource\u001b[0m \u001b[0;34m=\u001b[0m \u001b[0m_open\u001b[0m\u001b[0;34m(\u001b[0m\u001b[0mresource_url\u001b[0m\u001b[0;34m)\u001b[0m\u001b[0;34m\u001b[0m\u001b[0;34m\u001b[0m\u001b[0m\n\u001b[0m\u001b[1;32m    869\u001b[0m \u001b[0;34m\u001b[0m\u001b[0m\n\u001b[1;32m    870\u001b[0m     \u001b[0;32mif\u001b[0m \u001b[0mformat\u001b[0m \u001b[0;34m==\u001b[0m \u001b[0;34m'raw'\u001b[0m\u001b[0;34m:\u001b[0m\u001b[0;34m\u001b[0m\u001b[0;34m\u001b[0m\u001b[0m\n",
      "\u001b[0;32m~/miniconda3/envs/ironhack/lib/python3.7/site-packages/nltk/data.py\u001b[0m in \u001b[0;36m_open\u001b[0;34m(resource_url)\u001b[0m\n\u001b[1;32m    991\u001b[0m \u001b[0;34m\u001b[0m\u001b[0m\n\u001b[1;32m    992\u001b[0m     \u001b[0;32mif\u001b[0m \u001b[0mprotocol\u001b[0m \u001b[0;32mis\u001b[0m \u001b[0;32mNone\u001b[0m \u001b[0;32mor\u001b[0m \u001b[0mprotocol\u001b[0m\u001b[0;34m.\u001b[0m\u001b[0mlower\u001b[0m\u001b[0;34m(\u001b[0m\u001b[0;34m)\u001b[0m \u001b[0;34m==\u001b[0m \u001b[0;34m'nltk'\u001b[0m\u001b[0;34m:\u001b[0m\u001b[0;34m\u001b[0m\u001b[0;34m\u001b[0m\u001b[0m\n\u001b[0;32m--> 993\u001b[0;31m         \u001b[0;32mreturn\u001b[0m \u001b[0mfind\u001b[0m\u001b[0;34m(\u001b[0m\u001b[0mpath_\u001b[0m\u001b[0;34m,\u001b[0m \u001b[0mpath\u001b[0m \u001b[0;34m+\u001b[0m \u001b[0;34m[\u001b[0m\u001b[0;34m''\u001b[0m\u001b[0;34m]\u001b[0m\u001b[0;34m)\u001b[0m\u001b[0;34m.\u001b[0m\u001b[0mopen\u001b[0m\u001b[0;34m(\u001b[0m\u001b[0;34m)\u001b[0m\u001b[0;34m\u001b[0m\u001b[0;34m\u001b[0m\u001b[0m\n\u001b[0m\u001b[1;32m    994\u001b[0m     \u001b[0;32melif\u001b[0m \u001b[0mprotocol\u001b[0m\u001b[0;34m.\u001b[0m\u001b[0mlower\u001b[0m\u001b[0;34m(\u001b[0m\u001b[0;34m)\u001b[0m \u001b[0;34m==\u001b[0m \u001b[0;34m'file'\u001b[0m\u001b[0;34m:\u001b[0m\u001b[0;34m\u001b[0m\u001b[0;34m\u001b[0m\u001b[0m\n\u001b[1;32m    995\u001b[0m         \u001b[0;31m# urllib might not use mode='rb', so handle this one ourselves:\u001b[0m\u001b[0;34m\u001b[0m\u001b[0;34m\u001b[0m\u001b[0;34m\u001b[0m\u001b[0m\n",
      "\u001b[0;32m~/miniconda3/envs/ironhack/lib/python3.7/site-packages/nltk/data.py\u001b[0m in \u001b[0;36mfind\u001b[0;34m(resource_name, paths)\u001b[0m\n\u001b[1;32m    699\u001b[0m     \u001b[0msep\u001b[0m \u001b[0;34m=\u001b[0m \u001b[0;34m'*'\u001b[0m \u001b[0;34m*\u001b[0m \u001b[0;36m70\u001b[0m\u001b[0;34m\u001b[0m\u001b[0;34m\u001b[0m\u001b[0m\n\u001b[1;32m    700\u001b[0m     \u001b[0mresource_not_found\u001b[0m \u001b[0;34m=\u001b[0m \u001b[0;34m'\\n%s\\n%s\\n%s\\n'\u001b[0m \u001b[0;34m%\u001b[0m \u001b[0;34m(\u001b[0m\u001b[0msep\u001b[0m\u001b[0;34m,\u001b[0m \u001b[0mmsg\u001b[0m\u001b[0;34m,\u001b[0m \u001b[0msep\u001b[0m\u001b[0;34m)\u001b[0m\u001b[0;34m\u001b[0m\u001b[0;34m\u001b[0m\u001b[0m\n\u001b[0;32m--> 701\u001b[0;31m     \u001b[0;32mraise\u001b[0m \u001b[0mLookupError\u001b[0m\u001b[0;34m(\u001b[0m\u001b[0mresource_not_found\u001b[0m\u001b[0;34m)\u001b[0m\u001b[0;34m\u001b[0m\u001b[0;34m\u001b[0m\u001b[0m\n\u001b[0m\u001b[1;32m    702\u001b[0m \u001b[0;34m\u001b[0m\u001b[0m\n\u001b[1;32m    703\u001b[0m \u001b[0;34m\u001b[0m\u001b[0m\n",
      "\u001b[0;31mLookupError\u001b[0m: \n**********************************************************************\n  Resource \u001b[93mvader_lexicon\u001b[0m not found.\n  Please use the NLTK Downloader to obtain the resource:\n\n  \u001b[31m>>> import nltk\n  >>> nltk.download('vader_lexicon')\n  \u001b[0m\n  For more information see: https://www.nltk.org/data.html\n\n  Attempted to load \u001b[93msentiment/vader_lexicon.zip/vader_lexicon/vader_lexicon.txt\u001b[0m\n\n  Searched in:\n    - '/home/vargas/nltk_data'\n    - '/home/vargas/miniconda3/envs/ironhack/nltk_data'\n    - '/home/vargas/miniconda3/envs/ironhack/share/nltk_data'\n    - '/home/vargas/miniconda3/envs/ironhack/lib/nltk_data'\n    - '/usr/share/nltk_data'\n    - '/usr/local/share/nltk_data'\n    - '/usr/lib/nltk_data'\n    - '/usr/local/lib/nltk_data'\n    - ''\n**********************************************************************\n"
     ]
    }
   ],
   "source": [
    "sid = SentimentIntensityAnalyzer()\n",
    "conversations=[]\n",
    "sentiment=[]\n",
    "for x,y in my_dict.items():\n",
    "    sentiment.append(str(y))\n",
    "    \n",
    "sid.polarity_scores(sentiment)"
   ]
  },
  {
   "cell_type": "markdown",
   "metadata": {},
   "source": [
    "# POST"
   ]
  },
  {
   "cell_type": "code",
   "execution_count": 10,
   "metadata": {},
   "outputs": [
    {
     "data": {
      "text/plain": [
       "<Response [200]>"
      ]
     },
     "execution_count": 10,
     "metadata": {},
     "output_type": "execute_result"
    }
   ],
   "source": [
    "url=\"http://localhost:8080/user/create\"\n",
    "params={\"name\":\"Josepe\"}\n",
    "requests.post(url, data=params)"
   ]
  },
  {
   "cell_type": "code",
   "execution_count": 2,
   "metadata": {},
   "outputs": [
    {
     "data": {
      "text/plain": [
       "<Response [200]>"
      ]
     },
     "execution_count": 2,
     "metadata": {},
     "output_type": "execute_result"
    }
   ],
   "source": [
    "url=\"http://localhost:8080/create_all\"\n",
    "params={\"name\":\"Celia\", \"text\":\"Ey Vargas! You should grow up, you damn piece of physicist, Yay!\"}\n",
    "requests.post(url, data=params)"
   ]
  },
  {
   "cell_type": "code",
   "execution_count": null,
   "metadata": {},
   "outputs": [],
   "source": []
  }
 ],
 "metadata": {
  "kernelspec": {
   "display_name": "Python 3",
   "language": "python",
   "name": "python3"
  },
  "language_info": {
   "codemirror_mode": {
    "name": "ipython",
    "version": 3
   },
   "file_extension": ".py",
   "mimetype": "text/x-python",
   "name": "python",
   "nbconvert_exporter": "python",
   "pygments_lexer": "ipython3",
   "version": "3.7.4"
  }
 },
 "nbformat": 4,
 "nbformat_minor": 4
}
