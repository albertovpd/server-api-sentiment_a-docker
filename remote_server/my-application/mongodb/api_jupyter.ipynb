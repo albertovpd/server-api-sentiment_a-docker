{
 "cells": [
  {
   "cell_type": "code",
   "execution_count": 6,
   "metadata": {},
   "outputs": [
    {
     "name": "stderr",
     "output_type": "stream",
     "text": [
      "Bottle v0.12.17 server starting up (using WSGIRefServer())...\n",
      "Listening on http://0.0.0.0:8080/\n",
      "Hit Ctrl-C to quit.\n",
      "\n",
      "127.0.0.1 - - [30/Nov/2019 19:58:07] \"GET / HTTP/1.1\" 200 81416\n",
      "127.0.0.1 - - [30/Nov/2019 20:01:10] \"GET / HTTP/1.1\" 200 81416\n"
     ]
    }
   ],
   "source": [
    "from bottle import route, run, get, post, request\n",
    "import random\n",
    "from bson.json_util import dumps\n",
    "from populate import db,coll\n",
    "import json\n",
    "from bson.json_util import dumps\n",
    "\n",
    "\n",
    "'''@get(\"/\")\n",
    "def index():\n",
    "    return dumps(coll.find())\n",
    "run(host=\"localhost\", port=8080)'''\n",
    "\n",
    "@get(\"/chat/<chat_id>/list\")\n",
    "def getChat(chat_id):\n",
    "    '''\n",
    "    This function admit onlu integers\n",
    "    '''\n",
    "    db, coll = connectCollection('chats','messages')\n",
    "    db, collchat = connectCollection('chats','chats')\n",
    "    chatid_data = list(collchat.find({'Chat_id':int(chat_id)}))\n",
    "    chat_obj_id = chatid_data[0].get('_id')\n",
    "    chat_data = list(coll.find({'idChat':chat_obj_id}))\n",
    "    ret = {}\n",
    "    for i in range(len(chat_data)):\n",
    "        name = chat_data[i].get('userName')\n",
    "        message = chat_data[i].get('text')\n",
    "        date = chat_data[i].get('datetime')\n",
    "        ret[f'{name}_{date}'] = message        \n",
    "    return ret\n",
    "\n",
    "run(host='0.0.0.0', port=8080)"
   ]
  },
  {
   "cell_type": "code",
   "execution_count": null,
   "metadata": {},
   "outputs": [],
   "source": []
  }
 ],
 "metadata": {
  "file_extension": ".py",
  "kernelspec": {
   "display_name": "Python 3",
   "language": "python",
   "name": "python3"
  },
  "language_info": {
   "codemirror_mode": {
    "name": "ipython",
    "version": 3
   },
   "file_extension": ".py",
   "mimetype": "text/x-python",
   "name": "python",
   "nbconvert_exporter": "python",
   "pygments_lexer": "ipython3",
   "version": "3.7.4"
  },
  "mimetype": "text/x-python",
  "name": "python",
  "npconvert_exporter": "python",
  "pygments_lexer": "ipython3",
  "version": 3
 },
 "nbformat": 4,
 "nbformat_minor": 4
}
